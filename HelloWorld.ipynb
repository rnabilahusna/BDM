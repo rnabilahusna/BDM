{
  "nbformat": 4,
  "nbformat_minor": 0,
  "metadata": {
    "colab": {
      "provenance": [],
      "toc_visible": true,
      "authorship_tag": "ABX9TyMA3GZNhSIbRuXl8nDoqx1e",
      "include_colab_link": true
    },
    "kernelspec": {
      "name": "python3",
      "display_name": "Python 3"
    },
    "language_info": {
      "name": "python"
    }
  },
  "cells": [
    {
      "cell_type": "markdown",
      "metadata": {
        "id": "view-in-github",
        "colab_type": "text"
      },
      "source": [
        "<a href=\"https://colab.research.google.com/github/rnabilahusna/BDM/blob/main/HelloWorld.ipynb\" target=\"_parent\"><img src=\"https://colab.research.google.com/assets/colab-badge.svg\" alt=\"Open In Colab\"/></a>"
      ]
    },
    {
      "cell_type": "markdown",
      "source": [
        "# Hello world\n",
        "## Hello world\n",
        "### Hello world\n",
        "#### Hello world"
      ],
      "metadata": {
        "id": "9GG9JKWuQHrI"
      }
    },
    {
      "cell_type": "markdown",
      "source": [
        "## Personal Information\n",
        "- **Full Name:** Nabila Husna binti Rosli\n",
        "- **Age:** 23 years old\n",
        "- **Current Location:** Ampang, Selangor\n",
        "- **Email:** [nabilahusna@graduate.utm.my](mailto:nabilahusna@graduate.utm.my)\n",
        "- **LinkedIn:** [LinkedIn Profile](https://www.linkedin.com/in/rnabila-husna/)"
      ],
      "metadata": {
        "id": "jo1ZS9-FQbbg"
      }
    },
    {
      "cell_type": "code",
      "execution_count": null,
      "metadata": {
        "id": "jBbx3qx1QDz9"
      },
      "outputs": [],
      "source": [
        "import pandas as pd"
      ]
    }
  ]
}